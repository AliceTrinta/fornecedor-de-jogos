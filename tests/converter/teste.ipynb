{
 "cells": [
  {
   "cell_type": "code",
   "execution_count": 39,
   "metadata": {},
   "outputs": [],
   "source": [
    "import pandas as pd"
   ]
  },
  {
   "cell_type": "code",
   "execution_count": 40,
   "metadata": {},
   "outputs": [
    {
     "data": {
      "text/html": [
       "<div>\n",
       "<style scoped>\n",
       "    .dataframe tbody tr th:only-of-type {\n",
       "        vertical-align: middle;\n",
       "    }\n",
       "\n",
       "    .dataframe tbody tr th {\n",
       "        vertical-align: top;\n",
       "    }\n",
       "\n",
       "    .dataframe thead th {\n",
       "        text-align: right;\n",
       "    }\n",
       "</style>\n",
       "<table border=\"1\" class=\"dataframe\">\n",
       "  <thead>\n",
       "    <tr style=\"text-align: right;\">\n",
       "      <th></th>\n",
       "      <th>id</th>\n",
       "      <th>nome</th>\n",
       "      <th>preco</th>\n",
       "      <th>quantidade</th>\n",
       "    </tr>\n",
       "  </thead>\n",
       "  <tbody>\n",
       "    <tr>\n",
       "      <th>0</th>\n",
       "      <td>1</td>\n",
       "      <td>Jogo 1</td>\n",
       "      <td>10.0</td>\n",
       "      <td>100</td>\n",
       "    </tr>\n",
       "  </tbody>\n",
       "</table>\n",
       "</div>"
      ],
      "text/plain": [
       "   id    nome  preco  quantidade\n",
       "0   1  Jogo 1   10.0         100"
      ]
     },
     "metadata": {},
     "output_type": "display_data"
    }
   ],
   "source": [
    "game_data = [\n",
    "        {'id': 1, 'nome': 'Jogo 1', 'preco': 10.0, 'quantidade': 100}\n",
    "    ]\n",
    "df = pd.DataFrame(game_data)\n",
    "display(df)\n",
    "\n",
    "xml_data = \"\"\"\n",
    "<?xml version='1.0' encoding='utf-8'?>\n",
    "<data>\n",
    "  <row>\n",
    "    <index>0</index>\n",
    "    <id>1</id>\n",
    "    <nome>Jogo 1</nome>\n",
    "    <preco>10.0</preco>\n",
    "    <quantidade>100</quantidade>\n",
    "  </row>\n",
    "</data>\n",
    "\"\"\""
   ]
  },
  {
   "cell_type": "code",
   "execution_count": 41,
   "metadata": {},
   "outputs": [],
   "source": [
    "\n",
    "\n",
    "def xml_to_game(xml_file: str) -> pd.DataFrame:\n",
    "    game_data = pd.read_xml(xml_file)\n",
    "    df = game_data.set_index('id').reset_index()\n",
    "    print(df)\n",
    "    return df"
   ]
  },
  {
   "cell_type": "code",
   "execution_count": 44,
   "metadata": {},
   "outputs": [
    {
     "name": "stdout",
     "output_type": "stream",
     "text": [
      "   id  index    nome  preco  quantidade\n",
      "0   1      0  Jogo 1   10.0         100\n"
     ]
    }
   ],
   "source": [
    "\n",
    "def test_xml_to_game():\n",
    "    game_df = xml_to_game(xml_data.strip().replace('\\n', ''))\n",
    "    \n",
    "    assert isinstance(game_df, pd.DataFrame)\n",
    "    assert game_df.equals(game_df)\n",
    "\n",
    "test_xml_to_game()"
   ]
  },
  {
   "cell_type": "code",
   "execution_count": null,
   "metadata": {},
   "outputs": [],
   "source": []
  }
 ],
 "metadata": {
  "kernelspec": {
   "display_name": "fornecedor-de-jogos-sQ79BNoj-py3.11",
   "language": "python",
   "name": "python3"
  },
  "language_info": {
   "codemirror_mode": {
    "name": "ipython",
    "version": 3
   },
   "file_extension": ".py",
   "mimetype": "text/x-python",
   "name": "python",
   "nbconvert_exporter": "python",
   "pygments_lexer": "ipython3",
   "version": "3.11.1"
  },
  "orig_nbformat": 4
 },
 "nbformat": 4,
 "nbformat_minor": 2
}
